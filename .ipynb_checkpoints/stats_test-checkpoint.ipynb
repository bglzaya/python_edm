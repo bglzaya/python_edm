{
 "cells": [
  {
   "cell_type": "code",
   "execution_count": 1,
   "id": "0d6e0925-e80b-44fc-a53a-5e8596b6a3a3",
   "metadata": {},
   "outputs": [
    {
     "name": "stdout",
     "output_type": "stream",
     "text": [
      "Defaulting to user installation because normal site-packages is not writeable\n",
      "Requirement already satisfied: pingouin in ./.local/lib/python3.10/site-packages (0.5.3)\n",
      "Requirement already satisfied: numpy>=1.19 in ./.local/lib/python3.10/site-packages (from pingouin) (1.23.5)\n",
      "Requirement already satisfied: scipy>=1.7 in ./.local/lib/python3.10/site-packages (from pingouin) (1.11.3)\n",
      "Requirement already satisfied: pandas>=1.0 in ./.local/lib/python3.10/site-packages (from pingouin) (1.4.3)\n",
      "Requirement already satisfied: matplotlib>=3.0.2 in ./.local/lib/python3.10/site-packages (from pingouin) (3.8.0)\n",
      "Requirement already satisfied: seaborn>=0.11 in ./.local/lib/python3.10/site-packages (from pingouin) (0.13.0)\n",
      "Requirement already satisfied: statsmodels>=0.13 in ./.local/lib/python3.10/site-packages (from pingouin) (0.14.0)\n",
      "Requirement already satisfied: scikit-learn in ./.local/lib/python3.10/site-packages (from pingouin) (1.3.1)\n",
      "Requirement already satisfied: pandas-flavor>=0.2.0 in ./.local/lib/python3.10/site-packages (from pingouin) (0.6.0)\n",
      "Requirement already satisfied: outdated in ./.local/lib/python3.10/site-packages (from pingouin) (0.2.2)\n",
      "Requirement already satisfied: tabulate in ./.local/lib/python3.10/site-packages (from pingouin) (0.9.0)\n",
      "Requirement already satisfied: contourpy>=1.0.1 in ./.local/lib/python3.10/site-packages (from matplotlib>=3.0.2->pingouin) (1.1.1)\n",
      "Requirement already satisfied: cycler>=0.10 in ./.local/lib/python3.10/site-packages (from matplotlib>=3.0.2->pingouin) (0.12.1)\n",
      "Requirement already satisfied: fonttools>=4.22.0 in ./.local/lib/python3.10/site-packages (from matplotlib>=3.0.2->pingouin) (4.43.1)\n",
      "Requirement already satisfied: kiwisolver>=1.0.1 in ./.local/lib/python3.10/site-packages (from matplotlib>=3.0.2->pingouin) (1.4.5)\n",
      "Requirement already satisfied: packaging>=20.0 in ./.local/lib/python3.10/site-packages (from matplotlib>=3.0.2->pingouin) (23.2)\n",
      "Requirement already satisfied: pillow>=6.2.0 in ./.local/lib/python3.10/site-packages (from matplotlib>=3.0.2->pingouin) (10.0.1)\n",
      "Requirement already satisfied: pyparsing>=2.3.1 in /usr/lib/python3/dist-packages (from matplotlib>=3.0.2->pingouin) (2.4.7)\n",
      "Requirement already satisfied: python-dateutil>=2.7 in ./.local/lib/python3.10/site-packages (from matplotlib>=3.0.2->pingouin) (2.8.2)\n",
      "Requirement already satisfied: pytz>=2020.1 in /usr/lib/python3/dist-packages (from pandas>=1.0->pingouin) (2022.1)\n",
      "Requirement already satisfied: xarray in ./.local/lib/python3.10/site-packages (from pandas-flavor>=0.2.0->pingouin) (2023.12.0)\n",
      "Requirement already satisfied: patsy>=0.5.2 in ./.local/lib/python3.10/site-packages (from statsmodels>=0.13->pingouin) (0.5.4)\n",
      "Requirement already satisfied: setuptools>=44 in ./.local/lib/python3.10/site-packages (from outdated->pingouin) (65.5.1)\n",
      "Requirement already satisfied: littleutils in ./.local/lib/python3.10/site-packages (from outdated->pingouin) (0.2.2)\n",
      "Requirement already satisfied: requests in ./.local/lib/python3.10/site-packages (from outdated->pingouin) (2.31.0)\n",
      "Requirement already satisfied: joblib>=1.1.1 in ./.local/lib/python3.10/site-packages (from scikit-learn->pingouin) (1.2.0)\n",
      "Requirement already satisfied: threadpoolctl>=2.0.0 in ./.local/lib/python3.10/site-packages (from scikit-learn->pingouin) (3.2.0)\n",
      "Requirement already satisfied: six in /usr/lib/python3/dist-packages (from patsy>=0.5.2->statsmodels>=0.13->pingouin) (1.16.0)\n",
      "Requirement already satisfied: charset-normalizer<4,>=2 in ./.local/lib/python3.10/site-packages (from requests->outdated->pingouin) (3.3.0)\n",
      "Requirement already satisfied: idna<4,>=2.5 in /usr/lib/python3/dist-packages (from requests->outdated->pingouin) (3.3)\n",
      "Requirement already satisfied: urllib3<3,>=1.21.1 in ./.local/lib/python3.10/site-packages (from requests->outdated->pingouin) (2.0.7)\n",
      "Requirement already satisfied: certifi>=2017.4.17 in ./.local/lib/python3.10/site-packages (from requests->outdated->pingouin) (2023.7.22)\n"
     ]
    }
   ],
   "source": [
    "!pip install pingouin"
   ]
  },
  {
   "cell_type": "code",
   "execution_count": 2,
   "id": "551888f9-d583-44ff-9b38-0e6e2f0874f8",
   "metadata": {},
   "outputs": [],
   "source": [
    "from sklearn.datasets import load_iris\n",
    "from scipy import stats\n",
    "import pingouin as pg\n",
    "import pandas as pd"
   ]
  },
  {
   "cell_type": "code",
   "execution_count": 3,
   "id": "0f044e19-6f21-4f22-a278-7d778bd142ad",
   "metadata": {},
   "outputs": [
    {
     "name": "stdout",
     "output_type": "stream",
     "text": [
      "Index(['sepal length (cm)', 'sepal width (cm)', 'petal length (cm)',\n",
      "       'petal width (cm)', 'species'],\n",
      "      dtype='object')\n"
     ]
    }
   ],
   "source": [
    "# import the data\n",
    "df_iris = load_iris(as_frame=True)\n",
    "\n",
    "df = df_iris[\"data\"]\n",
    "target = df_iris[\"target\"]\n",
    "df['species'] = target\n",
    "print(df.columns)"
   ]
  },
  {
   "cell_type": "code",
   "execution_count": 4,
   "id": "08889fc9-c023-4006-8768-f62163d3812d",
   "metadata": {},
   "outputs": [],
   "source": [
    "setosa = df[(df['species'] == 0)]\n",
    "versicolor = df[(df['species'] == 1)]"
   ]
  },
  {
   "cell_type": "code",
   "execution_count": 5,
   "id": "1ffdc82d-84ec-41a9-97ad-4d9df8dfc9ce",
   "metadata": {},
   "outputs": [
    {
     "data": {
      "text/plain": [
       "LeveneResult(statistic=0.591002044989776, pvalue=0.44388064024686136)"
      ]
     },
     "execution_count": 5,
     "metadata": {},
     "output_type": "execute_result"
    }
   ],
   "source": [
    "# homogeneity\n",
    "stats.levene(setosa['sepal width (cm)'], versicolor['sepal width (cm)'])"
   ]
  },
  {
   "cell_type": "code",
   "execution_count": 7,
   "id": "53a8bb5d-b2ff-4059-a7ec-96c9fa99a7ec",
   "metadata": {},
   "outputs": [
    {
     "data": {
      "text/plain": [
       "ShapiroResult(statistic=0.971718966960907, pvalue=0.2715126574039459)"
      ]
     },
     "execution_count": 7,
     "metadata": {},
     "output_type": "execute_result"
    }
   ],
   "source": [
    "# Shapiro-Wilk test for normality\n",
    "stats.shapiro(setosa['sepal width (cm)'])"
   ]
  },
  {
   "cell_type": "code",
   "execution_count": 8,
   "id": "6ca41848-5d58-4663-8903-d91e8ee9a6db",
   "metadata": {},
   "outputs": [
    {
     "data": {
      "text/plain": [
       "ShapiroResult(statistic=0.9741329550743103, pvalue=0.3379843533039093)"
      ]
     },
     "execution_count": 8,
     "metadata": {},
     "output_type": "execute_result"
    }
   ],
   "source": [
    "stats.shapiro(versicolor['sepal width (cm)'])"
   ]
  },
  {
   "cell_type": "code",
   "execution_count": 9,
   "id": "7c35ad4d-86ef-449e-986f-ff7a2fc155d8",
   "metadata": {},
   "outputs": [
    {
     "data": {
      "text/plain": [
       "TtestResult(statistic=9.454975848128596, pvalue=1.8452599454769322e-15, df=98.0)"
      ]
     },
     "execution_count": 9,
     "metadata": {},
     "output_type": "execute_result"
    }
   ],
   "source": [
    "#t-test \n",
    "stats.ttest_ind(setosa['sepal width (cm)'], versicolor['sepal width (cm)'])"
   ]
  },
  {
   "cell_type": "code",
   "execution_count": 10,
   "id": "28451c7c-eaa8-439a-968d-897c54f0c9fe",
   "metadata": {},
   "outputs": [
    {
     "data": {
      "text/html": [
       "<div>\n",
       "<style scoped>\n",
       "    .dataframe tbody tr th:only-of-type {\n",
       "        vertical-align: middle;\n",
       "    }\n",
       "\n",
       "    .dataframe tbody tr th {\n",
       "        vertical-align: top;\n",
       "    }\n",
       "\n",
       "    .dataframe thead th {\n",
       "        text-align: right;\n",
       "    }\n",
       "</style>\n",
       "<table border=\"1\" class=\"dataframe\">\n",
       "  <thead>\n",
       "    <tr style=\"text-align: right;\">\n",
       "      <th></th>\n",
       "      <th>Source</th>\n",
       "      <th>SS</th>\n",
       "      <th>DF</th>\n",
       "      <th>MS</th>\n",
       "      <th>F</th>\n",
       "      <th>p-unc</th>\n",
       "      <th>np2</th>\n",
       "    </tr>\n",
       "  </thead>\n",
       "  <tbody>\n",
       "    <tr>\n",
       "      <th>0</th>\n",
       "      <td>Group</td>\n",
       "      <td>5.459963</td>\n",
       "      <td>1</td>\n",
       "      <td>5.459963</td>\n",
       "      <td>5.243656</td>\n",
       "      <td>0.0232</td>\n",
       "      <td>0.028616</td>\n",
       "    </tr>\n",
       "    <tr>\n",
       "      <th>1</th>\n",
       "      <td>Within</td>\n",
       "      <td>185.342729</td>\n",
       "      <td>178</td>\n",
       "      <td>1.041251</td>\n",
       "      <td>NaN</td>\n",
       "      <td>NaN</td>\n",
       "      <td>NaN</td>\n",
       "    </tr>\n",
       "  </tbody>\n",
       "</table>\n",
       "</div>"
      ],
      "text/plain": [
       "   Source          SS   DF        MS         F   p-unc       np2\n",
       "0   Group    5.459963    1  5.459963  5.243656  0.0232  0.028616\n",
       "1  Within  185.342729  178  1.041251       NaN     NaN       NaN"
      ]
     },
     "execution_count": 10,
     "metadata": {},
     "output_type": "execute_result"
    }
   ],
   "source": [
    "#ANOVA TEST \n",
    "df = pg.read_dataset('mixed_anova')\n",
    "pg.anova(data=df, dv='Scores', between='Group', detailed=True)"
   ]
  },
  {
   "cell_type": "code",
   "execution_count": 11,
   "id": "c4dafd2c-5a84-4816-8327-483ed64b2d18",
   "metadata": {},
   "outputs": [
    {
     "data": {
      "text/html": [
       "<div>\n",
       "<style scoped>\n",
       "    .dataframe tbody tr th:only-of-type {\n",
       "        vertical-align: middle;\n",
       "    }\n",
       "\n",
       "    .dataframe tbody tr th {\n",
       "        vertical-align: top;\n",
       "    }\n",
       "\n",
       "    .dataframe thead th {\n",
       "        text-align: right;\n",
       "    }\n",
       "</style>\n",
       "<table border=\"1\" class=\"dataframe\">\n",
       "  <thead>\n",
       "    <tr style=\"text-align: right;\">\n",
       "      <th></th>\n",
       "      <th>Source</th>\n",
       "      <th>SS</th>\n",
       "      <th>DF</th>\n",
       "      <th>MS</th>\n",
       "      <th>F</th>\n",
       "      <th>p-unc</th>\n",
       "      <th>ng2</th>\n",
       "      <th>eps</th>\n",
       "    </tr>\n",
       "  </thead>\n",
       "  <tbody>\n",
       "    <tr>\n",
       "      <th>0</th>\n",
       "      <td>Time</td>\n",
       "      <td>7.628428</td>\n",
       "      <td>2</td>\n",
       "      <td>3.814214</td>\n",
       "      <td>3.912796</td>\n",
       "      <td>0.022629</td>\n",
       "      <td>0.039981</td>\n",
       "      <td>0.998751</td>\n",
       "    </tr>\n",
       "    <tr>\n",
       "      <th>1</th>\n",
       "      <td>Error</td>\n",
       "      <td>115.027023</td>\n",
       "      <td>118</td>\n",
       "      <td>0.974805</td>\n",
       "      <td>NaN</td>\n",
       "      <td>NaN</td>\n",
       "      <td>NaN</td>\n",
       "      <td>NaN</td>\n",
       "    </tr>\n",
       "  </tbody>\n",
       "</table>\n",
       "</div>"
      ],
      "text/plain": [
       "  Source          SS   DF        MS         F     p-unc       ng2       eps\n",
       "0   Time    7.628428    2  3.814214  3.912796  0.022629  0.039981  0.998751\n",
       "1  Error  115.027023  118  0.974805       NaN       NaN       NaN       NaN"
      ]
     },
     "execution_count": 11,
     "metadata": {},
     "output_type": "execute_result"
    }
   ],
   "source": [
    "pg.rm_anova(data=df, dv='Scores', within='Time', subject='Subject', detailed=True)"
   ]
  },
  {
   "cell_type": "code",
   "execution_count": null,
   "id": "c6b9c9e9-fb5e-46c1-a06c-2498e89626b7",
   "metadata": {},
   "outputs": [],
   "source": []
  }
 ],
 "metadata": {
  "kernelspec": {
   "display_name": "Python 3 (ipykernel)",
   "language": "python",
   "name": "python3"
  },
  "language_info": {
   "codemirror_mode": {
    "name": "ipython",
    "version": 3
   },
   "file_extension": ".py",
   "mimetype": "text/x-python",
   "name": "python",
   "nbconvert_exporter": "python",
   "pygments_lexer": "ipython3",
   "version": "3.10.12"
  }
 },
 "nbformat": 4,
 "nbformat_minor": 5
}
